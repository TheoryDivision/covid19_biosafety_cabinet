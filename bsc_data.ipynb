{
 "cells": [
  {
   "cell_type": "code",
   "execution_count": 4,
   "metadata": {},
   "outputs": [],
   "source": [
    "import numpy as np\n",
    "import pandas as pd\n",
    "import matplotlib.pyplot as plt"
   ]
  },
  {
   "cell_type": "code",
   "execution_count": 5,
   "metadata": {},
   "outputs": [],
   "source": [
    "xs = [1,2,3]\n",
    "ys=[1,2,3]\n",
    "states = ['on','off']\n",
    "position = [1,2,3]\n"
   ]
  },
  {
   "cell_type": "code",
   "execution_count": null,
   "metadata": {},
   "outputs": [],
   "source": [
    "data = []\n",
    "for x in xs:\n",
    "    for y in ys:\n",
    "        for state in states:\n",
    "            for pos in position:\n",
    "                string='h1_'+str(x)+str(y)+'_cent_all_'+str(state)\n",
    "                df=pd.read_csv('data/hood1/%s/uv_data%s.csv'% (string,str(pos)))\n",
    "                data.append({'V':df.values.mean(),'x':x,'y':y,'state':state,'pos':pos})\n",
    "            \n",
    "                \n",
    "    \n",
    "    \n"
   ]
  },
  {
   "cell_type": "code",
   "execution_count": null,
   "metadata": {},
   "outputs": [],
   "source": [
    "df=pd.DataFrame(data)"
   ]
  },
  {
   "cell_type": "code",
   "execution_count": null,
   "metadata": {},
   "outputs": [],
   "source": [
    "for x in xs:\n",
    "    for y in ys:\n",
    "        df[df['x'] == x][df['y'] == x]"
   ]
  },
  {
   "cell_type": "code",
   "execution_count": null,
   "metadata": {},
   "outputs": [],
   "source": [
    "delV = df[df['state']=='on']['V'].values - df[df['state']=='off']['V'].values\n",
    "df= df[df['state']=='on']\n",
    "df['delV'] = delV\n",
    "df= df.drop(columns=['state'])"
   ]
  }
 ],
 "metadata": {
  "kernelspec": {
   "display_name": "Python 3",
   "language": "python",
   "name": "python3"
  },
  "language_info": {
   "codemirror_mode": {
    "name": "ipython",
    "version": 3
   },
   "file_extension": ".py",
   "mimetype": "text/x-python",
   "name": "python",
   "nbconvert_exporter": "python",
   "pygments_lexer": "ipython3",
   "version": "3.7.2"
  }
 },
 "nbformat": 4,
 "nbformat_minor": 2
}
